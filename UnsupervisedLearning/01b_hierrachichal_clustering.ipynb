{
 "cells": [
  {
   "cell_type": "markdown",
   "metadata": {},
   "source": [
    "# Hierarchical Clustering: Summary\n",
    "Heirachical clustering is a method for grouping data into disjoint subsets of similar data. It is a non-parametric method that is used when the number of clusters is not known in advance. It is also used to find clusters in data that is not normally distributed.\n",
    "\n",
    "Hierarchical Clustering builds a hierarchy of clusters and is of two types:\n",
    "\n",
    "Agglomerative (bottom-up): Each point starts in its own cluster, and clusters are merged step by step.\n",
    "Divisive (top-down): All points start in one cluster, and clusters are split recursively.\n",
    "How it Works (Agglomerative):\n",
    "Treat each data point as its own cluster.\n",
    "Compute the distance between all pairs of clusters.\n",
    "Merge the closest clusters.\n",
    "Repeat until all points belong to one cluster.\n",
    "Key Features:\n",
    "Linkage Methods:\n",
    "\n",
    "Single: Minimum distance.\n",
    "Complete: Maximum distance.\n",
    "Average: Mean distance.\n",
    "Ward: Minimizes variance (most common).\n",
    "Dendrogram: A tree-like diagram that shows how clusters are merged, helping decide the number of clusters visually.\n",
    "\n",
    "Advantages:\n",
    "No need to predefine the number of clusters.\n",
    "Produces a dendrogram for easy interpretation.\n",
    "Captures hierarchical relationships between clusters.\n",
    "Disadvantages:\n",
    "Computationally expensive (not ideal for large datasets).\n",
    "Sensitive to outliers.\n",
    "When to Use:\n",
    "For small datasets.\n",
    "When you want hierarchical relationships.\n",
    "When the number of clusters is unknown.\n"
   ]
  },
  {
   "cell_type": "markdown",
   "metadata": {},
   "source": []
  },
  {
   "cell_type": "code",
   "execution_count": null,
   "metadata": {},
   "outputs": [],
   "source": []
  }
 ],
 "metadata": {
  "kernelspec": {
   "display_name": "python_ml",
   "language": "python",
   "name": "python3"
  },
  "language_info": {
   "codemirror_mode": {
    "name": "ipython",
    "version": 3
   },
   "file_extension": ".py",
   "mimetype": "text/x-python",
   "name": "python",
   "nbconvert_exporter": "python",
   "pygments_lexer": "ipython3",
   "version": "3.11.10"
  }
 },
 "nbformat": 4,
 "nbformat_minor": 2
}
