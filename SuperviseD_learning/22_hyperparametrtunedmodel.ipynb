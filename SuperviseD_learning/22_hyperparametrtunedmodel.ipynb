{
 "cells": [
  {
   "cell_type": "markdown",
   "metadata": {},
   "source": [
    "Hyperparameter tuning is about finding the best combination of hyperparameters that optimize a model's performance on a given dataset. Here's how to approach selecting the best hyperparameter-tuned model step by step.\n",
    "1. Why Hyperparameter Tuning?\n",
    "\n",
    "    Objective: Improve the model's generalization to unseen data.\n",
    "    Challenge: Hyperparameters are not learned from the data; they must be set before training.\n",
    "    Examples of hyperparameters:\n",
    "        Learning rate (ηη) in gradient descent.\n",
    "        Number of trees (nn) in Random Forest or XGBoost.\n",
    "        Regularization parameters (λλ, CC) in regression or SVM.\n",
    "\n",
    "2. Methods for Hyperparameter Tuning\n",
    "a) Grid Search\n",
    "\n",
    "    Process: Try all possible combinations of hyperparameters from a predefined grid.\n",
    "    Pro: Exhaustive search guarantees the best combination from the grid.\n",
    "    Con: Computationally expensive for large grids.\n",
    "\n",
    "b) Random Search\n",
    "\n",
    "    Process: Randomly sample hyperparameter combinations.\n",
    "    Pro: Faster and computationally cheaper than Grid Search.\n",
    "    Con: May miss the optimal combination.\n",
    "\n",
    "c) Bayesian Optimization\n",
    "\n",
    "    Process: Uses probabilistic models to decide which hyperparameters to evaluate next.\n",
    "    Pro: More efficient than grid/random search.\n",
    "    Con: Implementation is more complex.\n",
    "\n",
    "d) Automated ML Libraries\n",
    "\n",
    "    Tools: Libraries like Optuna, Hyperopt, and Auto-Sklearn can handle the tuning process"
   ]
  }
 ],
 "metadata": {
  "language_info": {
   "name": "python"
  }
 },
 "nbformat": 4,
 "nbformat_minor": 2
}
