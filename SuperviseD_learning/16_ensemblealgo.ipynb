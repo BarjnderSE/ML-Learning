{
 "cells": [
  {
   "cell_type": "markdown",
   "metadata": {},
   "source": [
    "# Ensemble algorithms are a powerful approach in machine learning where multiple models (often called base learners) are combined to improve overall performance. The idea is to leverage the strength of multiple models to reduce overfitting, increase accuracy, and improve generalization."
   ]
  },
  {
   "cell_type": "markdown",
   "metadata": {},
   "source": [
    "1. Bagging (Bootstrap Aggregating)\n",
    "\n",
    "    What it does: Trains multiple models independently on different random samples of the data and averages their predictions.\n",
    "    Purpose: Reduces variance (overfitting).\n",
    "    Example: Random Forest – builds many decision trees and averages their predictions.\n",
    "\n",
    "2. Boosting\n",
    "\n",
    "    What it does: Trains models sequentially, each focusing on correcting the errors of the previous one.\n",
    "    Purpose: Reduces both bias and variance, improving accuracy.\n",
    "    Example: AdaBoost, XGBoost – each model learns from the mistakes of previous models.\n",
    "\n",
    "3. Stacking\n",
    "\n",
    "    What it does: Combines different models by training a meta-model on their predictions to make the final decision.\n",
    "    Purpose: Leverages the strengths of multiple diverse models.\n",
    "    Example: Stacked Generalization – combines decision trees, SVMs, and others to improve predictions.\n",
    "\n",
    "In short:\n",
    "\n",
    "    Bagging: Reduces variance by averaging multiple models.\n",
    "    Boosting: Improves performance by correcting errors sequentially.\n",
    "    Stacking: Combines different models and trains a meta-model to optimize predictions.\n",
    "\n"
   ]
  },
  {
   "cell_type": "markdown",
   "metadata": {},
   "source": [
    "Bagging: Multiple runners race independently, and their results are averaged.\n",
    "Boosting: Runners improve on the mistakes of previous runners.\n",
    "Stacking: Different runners (models) race together, and a coach decides the best combination of their performances."
   ]
  }
 ],
 "metadata": {
  "language_info": {
   "name": "python"
  }
 },
 "nbformat": 4,
 "nbformat_minor": 2
}
